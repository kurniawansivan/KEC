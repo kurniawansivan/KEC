{
 "cells": [
  {
   "cell_type": "code",
   "execution_count": null,
   "source": [
    "graph = {\r\n",
    "    '1': ['4', '2'],\r\n",
    "    '2': ['3', '5', '7', '8'],\r\n",
    "    '3': ['9', '10'],\r\n",
    "    '4': ['3'],\r\n",
    "    '5': ['6'],\r\n",
    "    '6': [],\r\n",
    "    '7': [],\r\n",
    "    '8': ['7'],\r\n",
    "    '9':[],\r\n",
    "    '10':[]\r\n",
    "}\r\n",
    "\r\n",
    "def bfs(graph, src = list(graph.keys())[0], visited = []):\r\n",
    "\r\n",
    "    # menambahkan node ke visited apabila sudah ditempu\r\n",
    "    if src not in visited: \r\n",
    "      visited.append(src)\r\n",
    "\r\n",
    "    # bfs memiliki sistem queue untuk melihat langkah yang akan ditempu selanjutnya\r\n",
    "    queue = []\r\n",
    "\r\n",
    "    if src in graph.keys():\r\n",
    "        for node in graph[src]:\r\n",
    "            if node not in visited: \r\n",
    "              visited.append(node)\r\n",
    "            queue.append(node)\r\n",
    "\r\n",
    "    for node in queue:\r\n",
    "        bfs(graph, node, visited)\r\n",
    "      \r\n",
    "    return visited\r\n",
    "    \r\n",
    "print(bfs(graph))"
   ],
   "outputs": [],
   "metadata": {}
  }
 ],
 "metadata": {
  "orig_nbformat": 4,
  "language_info": {
   "name": "python",
   "version": "3.9.7",
   "mimetype": "text/x-python",
   "codemirror_mode": {
    "name": "ipython",
    "version": 3
   },
   "pygments_lexer": "ipython3",
   "nbconvert_exporter": "python",
   "file_extension": ".py"
  },
  "kernelspec": {
   "name": "python3",
   "display_name": "Python 3.9.7 64-bit"
  },
  "interpreter": {
   "hash": "23300995598eec4bcf6bd89cf02d1c3675e8b2616661418dbbf5580aa901878d"
  }
 },
 "nbformat": 4,
 "nbformat_minor": 2
}