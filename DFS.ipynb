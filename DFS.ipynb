{
 "cells": [
  {
   "cell_type": "code",
   "execution_count": 12,
   "source": [
    "graph = {\r\n",
    "    '3' : ['2','4', '9', '10'],\r\n",
    "    '2' : ['1', '5', '7', '8'],\r\n",
    "    '5' : ['6'],\r\n",
    "    '6' : [],\r\n",
    "    '1' : [],\r\n",
    "    '4' : [],\r\n",
    "    '7' : [],\r\n",
    "    '8' : [],\r\n",
    "    '9' : [],\r\n",
    "    '10' : [],\r\n",
    "\r\n",
    "}\r\n",
    "\r\n",
    "def dfs(graph, src = list(graph.keys())[0], visited = []): # mulai dari 1st key, '1'\r\n",
    "\r\n",
    "    # Masukkin visited apabila sudah visit\r\n",
    "    if not src in visited: \r\n",
    "      visited.append(src)\r\n",
    "    \r\n",
    "    # traverse\r\n",
    "    for node in graph[src]:\r\n",
    "        if not node in visited: \r\n",
    "          visited.append(node)\r\n",
    "        if node in graph.keys():\r\n",
    "            dfs(graph, node, visited)\r\n",
    "\r\n",
    "    return visited\r\n",
    "\r\n",
    "\r\n",
    "print(dfs(graph))"
   ],
   "outputs": [
    {
     "output_type": "stream",
     "name": "stdout",
     "text": [
      "['1']\n"
     ]
    }
   ],
   "metadata": {}
  }
 ],
 "metadata": {
  "orig_nbformat": 4,
  "language_info": {
   "name": "python",
   "version": "3.9.7",
   "mimetype": "text/x-python",
   "codemirror_mode": {
    "name": "ipython",
    "version": 3
   },
   "pygments_lexer": "ipython3",
   "nbconvert_exporter": "python",
   "file_extension": ".py"
  },
  "kernelspec": {
   "name": "python3",
   "display_name": "Python 3.9.7 64-bit"
  },
  "interpreter": {
   "hash": "23300995598eec4bcf6bd89cf02d1c3675e8b2616661418dbbf5580aa901878d"
  }
 },
 "nbformat": 4,
 "nbformat_minor": 2
}